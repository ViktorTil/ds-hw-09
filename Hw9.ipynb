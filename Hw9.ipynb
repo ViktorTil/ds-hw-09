{
  "nbformat": 4,
  "nbformat_minor": 0,
  "metadata": {
    "colab": {
      "provenance": []
    },
    "kernelspec": {
      "name": "python3",
      "display_name": "Python 3"
    },
    "language_info": {
      "name": "python"
    }
  },
  "cells": [
    {
      "cell_type": "code",
      "source": [
        "import tensorflow as tf\n",
        "from tensorflow import keras\n",
        "from keras import layers, models, callbacks\n",
        "from keras.datasets import fashion_mnist\n",
        "import matplotlib.pyplot as plt\n",
        "from keras.callbacks import EarlyStopping"
      ],
      "metadata": {
        "id": "ZG000tszBplh"
      },
      "execution_count": 63,
      "outputs": []
    },
    {
      "cell_type": "code",
      "source": [
        "(train_images, train_labels), (test_images, test_labels) = fashion_mnist.load_data()"
      ],
      "metadata": {
        "id": "qs8hFvA-AoNP"
      },
      "execution_count": 75,
      "outputs": []
    },
    {
      "cell_type": "code",
      "source": [
        "train_images.shape, train_labels.shape, test_images.shape, test_labels.shape"
      ],
      "metadata": {
        "colab": {
          "base_uri": "https://localhost:8080/"
        },
        "id": "buC4lcykBv15",
        "outputId": "3d6dfa71-f6a5-49e7-fb92-930b4fbc389d"
      },
      "execution_count": 76,
      "outputs": [
        {
          "output_type": "execute_result",
          "data": {
            "text/plain": [
              "((60000, 28, 28), (60000,), (10000, 28, 28), (10000,))"
            ]
          },
          "metadata": {},
          "execution_count": 76
        }
      ]
    },
    {
      "cell_type": "code",
      "source": [
        "train_images = train_images.reshape((60000, 28, 28, 1)) / 255.0\n",
        "test_images = test_images.reshape((10000, 28, 28, 1)) / 255.0"
      ],
      "metadata": {
        "id": "fKNdlcDNAv3k"
      },
      "execution_count": 77,
      "outputs": []
    },
    {
      "cell_type": "code",
      "source": [
        "model = models.Sequential([\n",
        "    layers.Conv2D(16, (3, 3), activation='relu', input_shape=(28, 28, 1)),\n",
        "    layers.MaxPooling2D((2, 2)),\n",
        "    layers.Conv2D(32, (3, 3), activation='relu'),\n",
        "    layers.Flatten(),\n",
        "    layers.Dense(32, activation='relu'),\n",
        "    layers.Dense(10, activation='softmax')\n",
        "])\n"
      ],
      "metadata": {
        "id": "YJmRtH7nR5R5"
      },
      "execution_count": 78,
      "outputs": []
    },
    {
      "cell_type": "code",
      "source": [
        "model.compile(optimizer='adam',\n",
        "              loss='sparse_categorical_crossentropy',\n",
        "              metrics=['accuracy'])"
      ],
      "metadata": {
        "id": "5cWemqITBGxy"
      },
      "execution_count": 79,
      "outputs": []
    },
    {
      "cell_type": "code",
      "source": [
        "model.summary()"
      ],
      "metadata": {
        "colab": {
          "base_uri": "https://localhost:8080/"
        },
        "id": "-vWCpgZ9G8w9",
        "outputId": "09c12787-5f65-48e1-d891-0458dd90ec09"
      },
      "execution_count": 80,
      "outputs": [
        {
          "output_type": "stream",
          "name": "stdout",
          "text": [
            "Model: \"sequential_10\"\n",
            "_________________________________________________________________\n",
            " Layer (type)                Output Shape              Param #   \n",
            "=================================================================\n",
            " conv2d_19 (Conv2D)          (None, 26, 26, 16)        160       \n",
            "                                                                 \n",
            " max_pooling2d_11 (MaxPooli  (None, 13, 13, 16)        0         \n",
            " ng2D)                                                           \n",
            "                                                                 \n",
            " conv2d_20 (Conv2D)          (None, 11, 11, 32)        4640      \n",
            "                                                                 \n",
            " flatten_8 (Flatten)         (None, 3872)              0         \n",
            "                                                                 \n",
            " dense_22 (Dense)            (None, 32)                123936    \n",
            "                                                                 \n",
            " dense_23 (Dense)            (None, 10)                330       \n",
            "                                                                 \n",
            "=================================================================\n",
            "Total params: 129066 (504.16 KB)\n",
            "Trainable params: 129066 (504.16 KB)\n",
            "Non-trainable params: 0 (0.00 Byte)\n",
            "_________________________________________________________________\n"
          ]
        }
      ]
    },
    {
      "cell_type": "code",
      "source": [
        "early_stopping = EarlyStopping(monitor='val_accuracy', patience=1, min_delta=0.001, verbose=1, mode='auto')"
      ],
      "metadata": {
        "id": "85aIe06yUvvK"
      },
      "execution_count": 81,
      "outputs": []
    },
    {
      "cell_type": "code",
      "source": [
        "history = model.fit(train_images, train_labels, epochs=20, batch_size=64,\n",
        "                    validation_data=(test_images, test_labels),\n",
        "                    callbacks=[early_stopping])"
      ],
      "metadata": {
        "colab": {
          "base_uri": "https://localhost:8080/"
        },
        "id": "9k-0KYacaW01",
        "outputId": "1414f38c-33de-4b57-d969-cb09f31a3076"
      },
      "execution_count": 82,
      "outputs": [
        {
          "output_type": "stream",
          "name": "stdout",
          "text": [
            "Epoch 1/20\n",
            "938/938 [==============================] - 29s 30ms/step - loss: 0.5262 - accuracy: 0.8103 - val_loss: 0.3829 - val_accuracy: 0.8680\n",
            "Epoch 2/20\n",
            "938/938 [==============================] - 29s 31ms/step - loss: 0.3454 - accuracy: 0.8765 - val_loss: 0.3399 - val_accuracy: 0.8797\n",
            "Epoch 3/20\n",
            "938/938 [==============================] - 29s 31ms/step - loss: 0.2922 - accuracy: 0.8950 - val_loss: 0.3111 - val_accuracy: 0.8865\n",
            "Epoch 4/20\n",
            "938/938 [==============================] - 28s 30ms/step - loss: 0.2613 - accuracy: 0.9061 - val_loss: 0.2875 - val_accuracy: 0.8947\n",
            "Epoch 5/20\n",
            "938/938 [==============================] - 28s 30ms/step - loss: 0.2393 - accuracy: 0.9133 - val_loss: 0.2723 - val_accuracy: 0.9015\n",
            "Epoch 6/20\n",
            "938/938 [==============================] - 28s 30ms/step - loss: 0.2192 - accuracy: 0.9198 - val_loss: 0.2709 - val_accuracy: 0.9029\n",
            "Epoch 7/20\n",
            "938/938 [==============================] - 29s 30ms/step - loss: 0.2029 - accuracy: 0.9261 - val_loss: 0.2510 - val_accuracy: 0.9115\n",
            "Epoch 8/20\n",
            "938/938 [==============================] - 28s 30ms/step - loss: 0.1893 - accuracy: 0.9316 - val_loss: 0.2620 - val_accuracy: 0.9086\n",
            "Epoch 8: early stopping\n"
          ]
        }
      ]
    },
    {
      "cell_type": "code",
      "source": [
        "plt.plot(history.history['accuracy'], label='Точность при обучении')\n",
        "plt.plot(history.history['val_accuracy'], label='Точнось на тестах')\n",
        "plt.xlabel('Эпоха')\n",
        "plt.ylabel('Точность')\n",
        "plt.legend(loc='lower right')\n",
        "plt.show()"
      ],
      "metadata": {
        "colab": {
          "base_uri": "https://localhost:8080/",
          "height": 449
        },
        "id": "-f7E1ok-BV2t",
        "outputId": "93919ce8-2bf9-49d9-f280-62f848e610b4"
      },
      "execution_count": 83,
      "outputs": [
        {
          "output_type": "display_data",
          "data": {
            "text/plain": [
              "<Figure size 640x480 with 1 Axes>"
            ],
            "image/png": "[encoded data removed]"
          },
          "metadata": {}
        }
      ]
    },
    {
      "cell_type": "code",
      "source": [
        "test_loss, test_acc = model.evaluate(test_images, test_labels)\n",
        "print(f'Производительность модели: {test_acc}')"
      ],
      "metadata": {
        "colab": {
          "base_uri": "https://localhost:8080/"
        },
        "id": "chWXANqgBZ8K",
        "outputId": "ff71d97b-f655-4ff4-dc07-2d0407b7f032"
      },
      "execution_count": 84,
      "outputs": [
        {
          "output_type": "stream",
          "name": "stdout",
          "text": [
            "313/313 [==============================] - 2s 6ms/step - loss: 0.2620 - accuracy: 0.9086\n",
            "Производительность модели: 0.9085999727249146\n"
          ]
        }
      ]
    }
  ]
}